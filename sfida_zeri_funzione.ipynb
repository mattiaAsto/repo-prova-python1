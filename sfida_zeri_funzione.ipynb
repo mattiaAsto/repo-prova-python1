{
 "cells": [
  {
   "cell_type": "markdown",
   "metadata": {},
   "source": [
    "# SFIDA: \n",
    "## Determinare numericamente gli zeri di una funzione\n",
    "\n",
    "Volgiamo determinare numericamente gli zeri di una funzione. Per questo motivo non è permesso l'utilizzo di una caloclatrice grafica (Desmos, ...).\n",
    "\n",
    "I risultati devono essere dedotti solo dai valori numerici della funzione.\n",
    "\n",
    "In un secondo momento ci soffermeremo sulla rappresentazione grafica per poter generalizzare i metodi scoperti e definire degli algoritmi generici."
   ]
  },
  {
   "cell_type": "markdown",
   "metadata": {},
   "source": [
    "Proviamo ad esempio a determinare gli zeri della funzionne di legge \n",
    "$$f(x)=\\sin(x^2+2x) -2x^2+2$$"
   ]
  },
  {
   "cell_type": "markdown",
   "metadata": {},
   "source": [
    "In questi casi ci serve la libreria `numpy`\n",
    "\n",
    "__[Documentazione NumPy](https://numpy.org/doc/stable/reference/index.html)__"
   ]
  },
  {
   "cell_type": "code",
   "execution_count": 2,
   "metadata": {},
   "outputs": [],
   "source": [
    "import numpy as np"
   ]
  },
  {
   "cell_type": "markdown",
   "metadata": {},
   "source": [
    "Abbimao importato la libreria e assegnato il nome `np`\n",
    "\n",
    "Per utilizzare delle funzioni (o delle costanti) di `numpy` possiamo utilizzare `np.<funzione>` (`np.<costante>`)\n",
    "\n",
    "Ad esempio per ottenere il valore di $\\pi$ utilizzeremo `np.pi`"
   ]
  },
  {
   "cell_type": "code",
   "execution_count": 3,
   "metadata": {},
   "outputs": [
    {
     "data": {
      "text/plain": [
       "3.141592653589793"
      ]
     },
     "execution_count": 3,
     "metadata": {},
     "output_type": "execute_result"
    }
   ],
   "source": [
    "np.pi"
   ]
  },
  {
   "cell_type": "markdown",
   "metadata": {},
   "source": [
    "Definiamo la funzione in Python\n",
    "\n",
    "Per definire una funzione \n",
    "```\n",
    "def <nome_funzione>(<arg1>,<arg2>,<arg3=valore_default>):\n",
    "    <corpo della funzione>\n",
    "    return <valore di output>\n",
    "\n",
    "```"
   ]
  },
  {
   "cell_type": "code",
   "execution_count": 4,
   "metadata": {},
   "outputs": [],
   "source": [
    "def f(x):\n",
    "    return np.sin(x**2+2*x)-2*x**2+2"
   ]
  },
  {
   "cell_type": "markdown",
   "metadata": {},
   "source": [
    "Per utilizzare la funzione \n",
    "```\n",
    "<nome_funzione>(<argomento>)\n",
    "```\n",
    "\n",
    "Ad esempio per calcolare $f(1)$"
   ]
  },
  {
   "cell_type": "code",
   "execution_count": 5,
   "metadata": {},
   "outputs": [
    {
     "data": {
      "text/plain": [
       "0.14112000805986713"
      ]
     },
     "execution_count": 5,
     "metadata": {},
     "output_type": "execute_result"
    }
   ],
   "source": [
    "f(1)"
   ]
  },
  {
   "cell_type": "markdown",
   "metadata": {},
   "source": [
    "Mi calcolo la derivata della funzione: f'(x)=[cos(x^2+2x)*2x+2]-4x e la  definisco come g(x)"
   ]
  },
  {
   "cell_type": "code",
   "execution_count": 6,
   "metadata": {},
   "outputs": [],
   "source": [
    "def  g(x):\n",
    "    return (np.cos(x**2+2*x)*(2*x+2))-4*x"
   ]
  },
  {
   "cell_type": "markdown",
   "metadata": {},
   "source": [
    "Ora devo definire una funzione n(x) tangente a un punto `x0` della funzione f(x), con x che  è la variablile: n(x) = g(x)*(x-x0)+f(x0)"
   ]
  },
  {
   "cell_type": "code",
   "execution_count": 7,
   "metadata": {},
   "outputs": [],
   "source": [
    "def n(x, x0):\n",
    "    return g(x0)*(x-x0)+f(x0)"
   ]
  },
  {
   "cell_type": "markdown",
   "metadata": {},
   "source": [
    "Ora devo fare in modo di calcolare l'intersezione con l'asse delle ascisse della funzione n(x) tangente al punto x0\n",
    "mi serve pure un a funzione valore assoluto, ma è presente in np"
   ]
  },
  {
   "cell_type": "code",
   "execution_count": 8,
   "metadata": {},
   "outputs": [],
   "source": [
    "def trovaIntersezione(x0):\n",
    "    return (-1*(f(x0))/(g(x0)))+x0"
   ]
  },
  {
   "cell_type": "markdown",
   "metadata": {},
   "source": [
    "il prossim oapsso è creare un metodo che dato  un punto  iniziale cicla il valore x riultate fino che la ditanza  con l'asse x è minore di una precisione definitia in una variablie"
   ]
  },
  {
   "cell_type": "code",
   "execution_count": 16,
   "metadata": {},
   "outputs": [
    {
     "name": "stdout",
     "output_type": "stream",
     "text": [
      "x0: -0.7896322537980258\n",
      "x0: -0.7708798987443731\n",
      "x0: -0.7707388316038288\n",
      "x0: -0.7707388236988614\n",
      "x0: -0.7707388236988614\n",
      "lo zero  si trova a: -0.7707388236988614\n"
     ]
    }
   ],
   "source": [
    "precisione=0\n",
    "x0=-1\n",
    "before=0\n",
    "breaker=True\n",
    "while(breaker<100):\n",
    "    if(x0==before):\n",
    "        print('lo zero  si trova a:', x0)\n",
    "        breaker=100\n",
    "    else:\n",
    "        before=x0\n",
    "        x0=trovaIntersezione(x0)\n",
    "        print('x0:',x0)\n",
    "        breaker+=1\n",
    "        "
   ]
  }
 ],
 "metadata": {
  "kernelspec": {
   "display_name": "Python 3",
   "language": "python",
   "name": "python3"
  },
  "language_info": {
   "codemirror_mode": {
    "name": "ipython",
    "version": 3
   },
   "file_extension": ".py",
   "mimetype": "text/x-python",
   "name": "python",
   "nbconvert_exporter": "python",
   "pygments_lexer": "ipython3",
   "version": "3.10.8"
  }
 },
 "nbformat": 4,
 "nbformat_minor": 2
}
